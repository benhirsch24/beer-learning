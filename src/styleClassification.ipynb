{
 "cells": [
  {
   "cell_type": "code",
   "execution_count": 1,
   "metadata": {
    "collapsed": false
   },
   "outputs": [],
   "source": [
    "import urllib2\n",
    "import os\n",
    "import sys\n",
    "import numpy\n",
    "from bs4 import BeautifulSoup\n",
    "import collections\n",
    "from urlparse import urljoin\n",
    "import csv\n",
    "from beer.beer import Recipe, Ingredient, Yeasts, Fermentables, Hops\n",
    "\n",
    "from lxml import etree\n",
    "\n",
    "import numpy as np\n",
    "import sklearn as skl\n",
    "import matplotlib.pyplot as plt"
   ]
  },
  {
   "cell_type": "code",
   "execution_count": 2,
   "metadata": {
    "collapsed": false
   },
   "outputs": [],
   "source": [
    "dataDir = os.path.join('/'.join(os.getcwd().split('/')[0:-1]), 'data')"
   ]
  },
  {
   "cell_type": "code",
   "execution_count": 4,
   "metadata": {
    "collapsed": false
   },
   "outputs": [
    {
     "name": "stdout",
     "output_type": "stream",
     "text": [
      "100 recipes done\n",
      "200 recipes done\n",
      "Page 10\n",
      "300 recipes done\n",
      "400 recipes done\n",
      "Page 20\n",
      "500 recipes done\n",
      "Done parsing recipes, there were 531 recipes\n"
     ]
    }
   ],
   "source": [
    "def download(url, recipe_range, download=False):\n",
    "    recipes = []\n",
    "    n = 0\n",
    "    for num in range(recipe_range[0], recipe_range[1]):\n",
    "        if num % 10 == 0:\n",
    "            print 'Page %d' % num\n",
    "        recipe_link = urljoin(url, \"recipes?page=\" + str(num) + \"&sort=rank\")\n",
    "        index_file = os.path.join(dataDir, 'page_' + str(num) + '.html')\n",
    "        if download or not os.path.isfile(index_file):\n",
    "            contents = urllib2.urlopen(recipe_link).read()\n",
    "            with open(index_file, 'w') as f:\n",
    "                f.write(contents)\n",
    "        else:\n",
    "            with open(index_file, 'r') as f:\n",
    "                contents = f.read()\n",
    "\n",
    "        soup = BeautifulSoup(contents, 'html.parser')\n",
    "        recipe_links = [a['href'] for a in soup.find_all(\"a\", class_=\"recipe-link\")]\n",
    "\n",
    "        for relative_link in recipe_links:\n",
    "            recipe = Recipe(dataDir, relative_link, url)\n",
    "            if not recipe.parse():\n",
    "                continue\n",
    "            \n",
    "            recipes.append(recipe)\n",
    "            if len(recipes) % 100 == 0:\n",
    "                print str(len(recipes)) + ' recipes done'\n",
    "                \n",
    "    return recipes\n",
    "\n",
    "gRecipes = download(\"https://www.brewtoad.com/\", (1, 25), download=False)\n",
    "\n",
    "print 'Done parsing recipes, there were ' + str(len(gRecipes)) + ' recipes'"
   ]
  },
  {
   "cell_type": "code",
   "execution_count": 6,
   "metadata": {
    "collapsed": false
   },
   "outputs": [
    {
     "name": "stdout",
     "output_type": "stream",
     "text": [
      "Firework Cream Ale has 4 fermentables, 2 hops, and 1 yeasts\n",
      "There are 67 total styles, 309 fermentables, 118 hops, and 7 yeast\n",
      "Firework Cream Ale is a Cream Ale\n"
     ]
    }
   ],
   "source": [
    "print '%s has %d fermentables, %d hops, and %d yeasts' % (gRecipes[0].name, gRecipes[0].fermentables.num,\n",
    "                                                          gRecipes[0].hops.num, gRecipes[0].yeast.num)\n",
    "print 'There are %d total styles, %d fermentables, %d hops, and %d yeast' % (len(Recipe.styles), \n",
    "                                                                             len(Fermentables.fermentables),\n",
    "                                                                             len(Hops.hops),\n",
    "                                                                             len(Yeasts.yeasts))\n",
    "print gRecipes[0].name + ' is a ' + gRecipes[0].style"
   ]
  },
  {
   "cell_type": "code",
   "execution_count": 7,
   "metadata": {
    "collapsed": false
   },
   "outputs": [
    {
     "name": "stdout",
     "output_type": "stream",
     "text": [
      "[('American IPA', 71), ('American Pale Ale', 46), ('Specialty Beer', 32), ('Extra Special/Strong Bitter (English Pale Ale)', 22), ('Saison', 17), ('Oatmeal Stout', 15), ('Weizen/Weissbier', 15), ('Belgian Specialty Ale', 13), ('Witbier', 13), ('Christmas/Winter Specialty Spiced Beer', 12), ('Sweet Stout', 12), ('Spice, Herb, or Vegetable Beer', 12), ('Russian Imperial Stout', 11), ('Imperial IPA', 11), ('American Amber Ale', 10), ('Belgian Dubbel', 10), ('Fruit Beer', 10), ('Robust Porter', 10), ('Irish Red Ale', 10), (u'K\\xf6lsch', 9), ('English IPA', 9), ('American Brown Ale', 8), ('American Stout', 8), ('German Pilsner (Pils)', 8), ('Strong Scotch Ale', 7), ('Belgian Blond Ale', 7), ('Blonde Ale', 7), ('Northern English Brown Ale', 6), ('American Wheat or Rye Beer', 6), ('Belgian Golden Strong Ale', 6), ('Bohemian Pilsener', 6), ('Brown Porter', 5), ('Dry Stout', 5), ('English Barleywine', 5), (u'Oktoberfest/M\\xe4rzen', 5), ('Scottish Export 80/-', 4), ('Belgian Pale Ale', 4), ('Belgian Dark Strong Ale', 4), ('Belgian Tripel', 4), ('Maibock/Helles Bock', 4), ('Special/Best/Premium Bitter', 4), ('Berliner Weisse', 3), ('Standard/Ordinary Bitter', 3), ('Cream Ale', 3), ('Flanders Brown Ale/Oud Bruin', 3), ('Premium American Lager', 3), ('Dunkelweizen', 3), ('Munich Helles', 3), ('Southern English Brown', 2), ('California Common Beer', 2), ('Doppelbock', 2), ('Old Ale', 2), ('Classic American Pilsner', 2), ('American Barleywine', 2), ('Weizenbock', 2), ('Mild', 2), ('Munich Dunkel', 1), ('Schwarzbier (Black Beer)', 1), ('Scottish Heavy 70/-', 1), ('Roggenbier (German Rye Beer)', 1), ('Flanders Red Ale', 1), ('Vienna Lager', 1), ('Wood-Aged Beer', 1), (u'D\\xfcsseldorf Altbier', 1), ('Northern German Altbier', 1), (u'Bi\\xe8re de Garde', 1), ('Foreign Extra Stout', 1)]\n"
     ]
    }
   ],
   "source": [
    "recipe_counts = {}\n",
    "for recipe in gRecipes:\n",
    "    if recipe.style not in recipe_counts:\n",
    "        recipe_counts[recipe.style] = 0\n",
    "    recipe_counts[recipe.style] += 1\n",
    "\n",
    "rc_list = []\n",
    "for style, count in recipe_counts.iteritems():\n",
    "    rc_list.append((style, count))\n",
    "rc_list.sort(key=lambda r: r[1], reverse=True)\n",
    "print rc_list"
   ]
  },
  {
   "cell_type": "code",
   "execution_count": 8,
   "metadata": {
    "collapsed": false
   },
   "outputs": [
    {
     "name": "stdout",
     "output_type": "stream",
     "text": [
      "Crystal 15\n",
      "Citra (US)\n"
     ]
    }
   ],
   "source": [
    "idx_to_fermentable = {}\n",
    "for ferm, idx in Fermentables.fermentables.iteritems():\n",
    "    idx_to_fermentable[idx] = ferm\n",
    "    \n",
    "print idx_to_fermentable[2]\n",
    "\n",
    "idx_to_hop = {}\n",
    "for hop, idx in Hops.hops.iteritems():\n",
    "    idx_to_hop[idx] = hop\n",
    "    \n",
    "print idx_to_hop[2]"
   ]
  },
  {
   "cell_type": "code",
   "execution_count": 9,
   "metadata": {
    "collapsed": false
   },
   "outputs": [
    {
     "name": "stdout",
     "output_type": "stream",
     "text": [
      "American IPA\n",
      "531\n",
      "Crisp Pale Ale Malt\n",
      "toasted oats\n",
      "Bairds Chocolate Malt\n",
      "set([None, 'Caramel/Crystal Malt', 'Kilned Malt', 'Sugar', 'Adjunct', 'Roasted Malt', 'Dry Extract', 'Grain', 'Liquid Extract', 'Base Malt'])\n"
     ]
    }
   ],
   "source": [
    "# creates the numpy arrays for the data and labels\n",
    "\n",
    "subset = gRecipes\n",
    "labels = numpy.array([recipe.style for recipe in subset])\n",
    "data = numpy.array([recipe.to_data() for recipe in subset])\n",
    "\n",
    "print labels[2]\n",
    "print len(subset)\n",
    "\n",
    "type_set = set()\n",
    "for recipe in subset:\n",
    "    for ferm in recipe.fermentables.data:\n",
    "        if ferm[2].text == None:\n",
    "            print ferm[0].text\n",
    "    ferm_types = [ferm[2].text for ferm in recipe.fermentables.data]\n",
    "    type_set = type_set.union(set(ferm_types))\n",
    "print type_set"
   ]
  },
  {
   "cell_type": "code",
   "execution_count": null,
   "metadata": {
    "collapsed": true
   },
   "outputs": [],
   "source": [
    "from sklearn import linear_model\n",
    "from sklearn import naive_bayes\n",
    "from sklearn import tree\n",
    "from sklearn import svm\n",
    "from sklearn import preprocessing\n",
    "from sklearn.cross_validation import train_test_split\n",
    "import time"
   ]
  },
  {
   "cell_type": "code",
   "execution_count": null,
   "metadata": {
    "collapsed": false
   },
   "outputs": [],
   "source": [
    "def normalize_recipe_data(r_data):\n",
    "    data_T = numpy.transpose(r_data)\n",
    "    data_T_n = preprocessing.normalize(data_T)\n",
    "    data_n = numpy.transpose(data_T_n)\n",
    "    return data_n"
   ]
  },
  {
   "cell_type": "code",
   "execution_count": null,
   "metadata": {
    "collapsed": false
   },
   "outputs": [],
   "source": [
    "model_names = ['Logistic Regression', 'Naive Bayes', 'SVM SVC',\n",
    "              'Decision Tree']\n",
    "\n",
    "models = dict(zip(model_names, [\n",
    "            linear_model.LogisticRegression(),\n",
    "            naive_bayes.GaussianNB(),\n",
    "            svm.SVC(),\n",
    "            tree.DecisionTreeClassifier()\n",
    "        ]))\n",
    "\n",
    "model_accuracy = dict(zip(model_names, [0,0,0,0]))\n",
    "\n",
    "totalTestSamples = 0\n",
    "\n",
    "for i in range(0, 1):\n",
    "    X_train, X_test, Y_train, Y_test = train_test_split(data, labels, test_size = 0.2)\n",
    "    \n",
    "\n",
    "    model_results = {\n",
    "        'Logistic Regression': linear_model.LogisticRegression(),\n",
    "        'Naive Bayes': naive_bayes.GaussianNB(),\n",
    "        'SVM SVC': svm.SVC()\n",
    "    }\n",
    "    \n",
    "    if i == 0:\n",
    "        print 'Recipe\\'s Malts:'\n",
    "        recipe_1 = X_test[0]\n",
    "        for idx in range(0, len(Fermentables.fermentables)):\n",
    "            if float(recipe_1[5 + idx]) > 0.0:\n",
    "                print idx_to_fermentable[idx] + ': ' + str(recipe_1[5+idx])\n",
    "        print '\\nRecipe\\'s Hops:'\n",
    "        for idx in range(0, len(Hops.hops)):\n",
    "            if float(recipe_1[5 + len(Fermentables.fermentables) + idx]) > 0.0:\n",
    "                print idx_to_hop[idx] + ': ' + str(recipe_1[5+len(Fermentables.fermentables)+idx])\n",
    "        print ''\n",
    "\n",
    "    for name, model in models.iteritems():\n",
    "        start = time.clock()\n",
    "        model.fit(X_train, Y_train)\n",
    "        stop = time.clock()\n",
    "        fit_time = stop - start\n",
    "        \n",
    "        start = time.clock()\n",
    "        model_results[name] = model.predict(X_test)\n",
    "        stop = time.clock()\n",
    "        predict_time = stop - start\n",
    "        print '%s took %f to fit, %f to predict with test size %d' % (name, fit_time, predict_time,\n",
    "                                                                     len(X_test))\n",
    "\n",
    "    if i == 0:\n",
    "        print 'Expected Style: %s' % Y_test[0]\n",
    "        for name, results in model_results.iteritems():\n",
    "            print '%s: %s' % (name, results[0])\n",
    "        print ''\n",
    "\n",
    "    numTestSamples = len(Y_test)\n",
    "    totalTestSamples += numTestSamples\n",
    "    for idx in range(0, numTestSamples):\n",
    "        for model, val in model_accuracy.iteritems():\n",
    "            if Y_test[idx] == model_results[model][idx]:\n",
    "                model_accuracy[model] += 1\n",
    "\n",
    "print 'There are %d total test samples' % totalTestSamples\n",
    "for model, accuracy in model_accuracy.iteritems():\n",
    "    print '%s: %.3f' % (model, accuracy / float(totalTestSamples))"
   ]
  }
 ],
 "metadata": {
  "kernelspec": {
   "display_name": "Python 2",
   "language": "python",
   "name": "python2"
  },
  "language_info": {
   "codemirror_mode": {
    "name": "ipython",
    "version": 2
   },
   "file_extension": ".py",
   "mimetype": "text/x-python",
   "name": "python",
   "nbconvert_exporter": "python",
   "pygments_lexer": "ipython2",
   "version": "2.7.11"
  }
 },
 "nbformat": 4,
 "nbformat_minor": 0
}
